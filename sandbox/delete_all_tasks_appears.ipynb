{
 "cells": [
  {
   "cell_type": "code",
   "execution_count": 1,
   "metadata": {},
   "outputs": [
    {
     "name": "stdout",
     "output_type": "stream",
     "text": [
      "Deleted task c550c6fe-9aa2-4d7f-8a84-0d70c8ce3f70\n",
      "Deleted task c13d3a4b-9610-420d-9a7e-1144bd0484f7\n"
     ]
    }
   ],
   "source": [
    "import os\n",
    "import sys\n",
    "import json\n",
    "import asyncio\n",
    "import requests\n",
    "import nest_asyncio\n",
    "# Añadir la ruta del directorio raíz del proyecto al sys.path\n",
    "project_root = os.path.abspath(os.path.join('..'))\n",
    "if project_root not in sys.path:\n",
    "    sys.path.append(project_root)\n",
    "# Constants\n",
    "BASE_URL = \"https://appeears.earthdatacloud.nasa.gov/api\"\n",
    "USERNAME = os.getenv(\"APPEARS_USER\")\n",
    "PASSWORD = os.getenv(\"APPEARS_PASS\")\n",
    "\n",
    "def get_auth_token(username: str, password: str) -> str:\n",
    "    \"\"\"\n",
    "    Authenticate to the API and return the authentication token.\n",
    "    \"\"\"\n",
    "    response = requests.post(\n",
    "        url=f\"{BASE_URL}/login\",\n",
    "        auth=(username, password)\n",
    "    )\n",
    "    response.raise_for_status()  # Raises an exception for HTTP errors\n",
    "    return response.json()['token']\n",
    "\n",
    "def list_tasks(token: str) -> list:\n",
    "    \"\"\"\n",
    "    List all tasks for the authenticated user and return their IDs.\n",
    "    \"\"\"\n",
    "    headers = {'Authorization': f'Bearer {token}'}\n",
    "    response = requests.get(\n",
    "        url=f\"{BASE_URL}/task\",\n",
    "        headers=headers\n",
    "    )\n",
    "    response.raise_for_status()\n",
    "    return [task['task_id'] for task in response.json()]\n",
    "\n",
    "def delete_task(token: str, task_id: str) -> None:\n",
    "    \"\"\"\n",
    "    Delete a task by its ID.\n",
    "    \"\"\"\n",
    "    headers = {'Authorization': f'Bearer {token}'}\n",
    "    response = requests.delete(\n",
    "        url=f\"{BASE_URL}/task/{task_id}\",\n",
    "        headers=headers\n",
    "    )\n",
    "    response.raise_for_status()\n",
    "    print(f\"Deleted task {task_id}\")\n",
    "\n",
    "def main():\n",
    "    try:\n",
    "        token = get_auth_token(username=USERNAME, password=PASSWORD)\n",
    "        task_ids = list_tasks(token=token)\n",
    "        for task_id in task_ids:\n",
    "            delete_task(token=token, task_id=task_id)\n",
    "    except requests.RequestException as e:\n",
    "        print(f\"An error occurred: {e}\")\n",
    "\n",
    "# Run the main function\n",
    "main()\n"
   ]
  },
  {
   "cell_type": "code",
   "execution_count": null,
   "metadata": {},
   "outputs": [],
   "source": []
  }
 ],
 "metadata": {
  "kernelspec": {
   "display_name": "Climatech",
   "language": "python",
   "name": "climatech"
  },
  "language_info": {
   "codemirror_mode": {
    "name": "ipython",
    "version": 3
   },
   "file_extension": ".py",
   "mimetype": "text/x-python",
   "name": "python",
   "nbconvert_exporter": "python",
   "pygments_lexer": "ipython3",
   "version": "3.12.3"
  }
 },
 "nbformat": 4,
 "nbformat_minor": 2
}
