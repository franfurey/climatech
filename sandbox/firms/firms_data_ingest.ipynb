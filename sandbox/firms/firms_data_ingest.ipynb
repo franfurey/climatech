{
  "cells": [
    {
      "cell_type": "markdown",
      "metadata": {
        "id": "tt9HYXiAI6oL"
      },
      "source": [
        "# ![nasa_logo.png](data:image/png;base64,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) **NASA FIRMS - Data Ingest and Manipulation in Python**\n"
      ]
    },
    {
      "cell_type": "markdown",
      "metadata": {
        "id": "DJpq9556GT6M"
      },
      "source": [
        "This tutorial will show how to ingest and manipulate sample FIRMS fire detection dataset. We will cover:\n",
        "\n",
        "- ingest\n",
        "- subsetting\n",
        "- converting date and time fields into datetime and applying timezone\n",
        "\n",
        "**Programming language:** Python\n",
        "\n",
        "**Libraries:**  [pandas](https://pandas.pydata.org)"
      ]
    },
    {
      "cell_type": "markdown",
      "metadata": {
        "id": "1TEfnBEodlCI"
      },
      "source": [
        "---\n",
        "\n",
        "**LEVEL:** Beginner\n",
        "\n",
        "---\n"
      ]
    },
    {
      "cell_type": "markdown",
      "metadata": {
        "id": "P_cMY5_g9npk"
      },
      "source": [
        "**Remember to execute code in order**"
      ]
    },
    {
      "cell_type": "markdown",
      "metadata": {
        "id": "2EIMS1RpQ9-d"
      },
      "source": [
        "In this module, we will download a sample VIIRS SNPP dataset (~6MB) from **July 12th 2023** with time range from **0:00 to 19:50** (7:50pm) **GMT**. Our sample dataset includes both NRT and URT data.\n",
        "\n",
        "To better understand URT, RT and NRT visit:\n",
        "\n",
        "[Wildfire detection in the US and Canada within a minute of satellite observation](https://wiki.earthdata.nasa.gov/pages/viewpage.action?pageId=258343755)\n",
        "\n",
        "[Are there particular differences between URT data, RT data and NRT data?](https://www.earthdata.nasa.gov/faq/firms-faq#ed-urt-rt-nrt-differences)\n"
      ]
    },
    {
      "cell_type": "markdown",
      "metadata": {
        "id": "W8A0Z-nKb_DB"
      },
      "source": [
        "---\n",
        "\n",
        "## Data Ingest\n",
        "\n",
        "---"
      ]
    },
    {
      "cell_type": "code",
      "execution_count": 1,
      "metadata": {
        "colab": {
          "base_uri": "https://localhost:8080/"
        },
        "id": "JIkXu8JeI21H",
        "outputId": "598d9e1c-7c7b-4793-e748-3637855ced01"
      },
      "outputs": [
        {
          "name": "stdout",
          "output_type": "stream",
          "text": [
            "FIRMS sample fire data contains 74605 rows and 14 columns\n"
          ]
        },
        {
          "data": {
            "text/plain": [
              "(74605, 14)"
            ]
          },
          "execution_count": 1,
          "metadata": {},
          "output_type": "execute_result"
        }
      ],
      "source": [
        "# import libraries for data manipulation\n",
        "\n",
        "import pandas as pd\n",
        "\n",
        "# Let's read VIIRS csv sample data set into a DataFrame df\n",
        "\n",
        "df = pd.read_csv('https://firms.modaps.eosdis.nasa.gov/content/notebooks/sample_viirs_snpp_071223.csv')\n",
        "\n",
        "# show how many rows (records) and columns (values per record) we have\n",
        "\n",
        "print ('FIRMS sample fire data contains %i rows and %i columns' % (df.shape[0], df.shape[1]))\n",
        "df.shape"
      ]
    },
    {
      "cell_type": "code",
      "execution_count": 2,
      "metadata": {
        "colab": {
          "base_uri": "https://localhost:8080/"
        },
        "id": "9J2I_UHUp3Qy",
        "outputId": "a5324b98-120d-40e1-acd4-6a02a96360d8"
      },
      "outputs": [
        {
          "name": "stdout",
          "output_type": "stream",
          "text": [
            "<class 'pandas.core.frame.DataFrame'>\n",
            "RangeIndex: 74605 entries, 0 to 74604\n",
            "Data columns (total 14 columns):\n",
            " #   Column      Non-Null Count  Dtype  \n",
            "---  ------      --------------  -----  \n",
            " 0   latitude    74605 non-null  float64\n",
            " 1   longitude   74605 non-null  float64\n",
            " 2   bright_ti4  74605 non-null  float64\n",
            " 3   scan        74605 non-null  float64\n",
            " 4   track       74605 non-null  float64\n",
            " 5   acq_date    74605 non-null  object \n",
            " 6   acq_time    74605 non-null  int64  \n",
            " 7   satellite   74605 non-null  object \n",
            " 8   instrument  74605 non-null  object \n",
            " 9   confidence  74605 non-null  object \n",
            " 10  version     74605 non-null  object \n",
            " 11  bright_ti5  74605 non-null  float64\n",
            " 12  frp         74605 non-null  float64\n",
            " 13  daynight    74605 non-null  object \n",
            "dtypes: float64(7), int64(1), object(6)\n",
            "memory usage: 8.0+ MB\n"
          ]
        }
      ],
      "source": [
        "# Display information about our data\n",
        "\n",
        "df.info()"
      ]
    },
    {
      "cell_type": "markdown",
      "metadata": {
        "id": "XnWCZ3DxsKtq"
      },
      "source": [
        "The data shows as there are **74605** records, with 7 variables containing decimal point (**float64**) values, one (acq_time) numeric variable (**int64**), and remainder as string values (**object**)\n",
        "\n",
        "For information about these values, visit: [https://www.earthdata.nasa.gov/learn/find-data/near-real-time/firms/viirs-i-band-375-m-active-fire-data](https://www.earthdata.nasa.gov/learn/find-data/near-real-time/firms/viirs-i-band-375-m-active-fire-data)"
      ]
    },
    {
      "cell_type": "code",
      "execution_count": 3,
      "metadata": {
        "colab": {
          "base_uri": "https://localhost:8080/",
          "height": 206
        },
        "id": "_5XturJgtThh",
        "outputId": "9221794f-1280-4c27-f32f-a8a6fc729c21"
      },
      "outputs": [
        {
          "data": {
            "text/html": [
              "<div>\n",
              "<style scoped>\n",
              "    .dataframe tbody tr th:only-of-type {\n",
              "        vertical-align: middle;\n",
              "    }\n",
              "\n",
              "    .dataframe tbody tr th {\n",
              "        vertical-align: top;\n",
              "    }\n",
              "\n",
              "    .dataframe thead th {\n",
              "        text-align: right;\n",
              "    }\n",
              "</style>\n",
              "<table border=\"1\" class=\"dataframe\">\n",
              "  <thead>\n",
              "    <tr style=\"text-align: right;\">\n",
              "      <th></th>\n",
              "      <th>latitude</th>\n",
              "      <th>longitude</th>\n",
              "      <th>bright_ti4</th>\n",
              "      <th>scan</th>\n",
              "      <th>track</th>\n",
              "      <th>acq_date</th>\n",
              "      <th>acq_time</th>\n",
              "      <th>satellite</th>\n",
              "      <th>instrument</th>\n",
              "      <th>confidence</th>\n",
              "      <th>version</th>\n",
              "      <th>bright_ti5</th>\n",
              "      <th>frp</th>\n",
              "      <th>daynight</th>\n",
              "    </tr>\n",
              "  </thead>\n",
              "  <tbody>\n",
              "    <tr>\n",
              "      <th>0</th>\n",
              "      <td>0.05836</td>\n",
              "      <td>29.59085</td>\n",
              "      <td>295.64</td>\n",
              "      <td>0.38</td>\n",
              "      <td>0.59</td>\n",
              "      <td>2023-07-12</td>\n",
              "      <td>3</td>\n",
              "      <td>N</td>\n",
              "      <td>VIIRS</td>\n",
              "      <td>n</td>\n",
              "      <td>2.0NRT</td>\n",
              "      <td>275.15</td>\n",
              "      <td>0.83</td>\n",
              "      <td>N</td>\n",
              "    </tr>\n",
              "    <tr>\n",
              "      <th>1</th>\n",
              "      <td>0.48765</td>\n",
              "      <td>31.50760</td>\n",
              "      <td>296.73</td>\n",
              "      <td>0.51</td>\n",
              "      <td>0.66</td>\n",
              "      <td>2023-07-12</td>\n",
              "      <td>3</td>\n",
              "      <td>N</td>\n",
              "      <td>VIIRS</td>\n",
              "      <td>n</td>\n",
              "      <td>2.0NRT</td>\n",
              "      <td>275.15</td>\n",
              "      <td>0.56</td>\n",
              "      <td>N</td>\n",
              "    </tr>\n",
              "    <tr>\n",
              "      <th>2</th>\n",
              "      <td>2.15227</td>\n",
              "      <td>13.94524</td>\n",
              "      <td>305.26</td>\n",
              "      <td>0.51</td>\n",
              "      <td>0.49</td>\n",
              "      <td>2023-07-12</td>\n",
              "      <td>3</td>\n",
              "      <td>N</td>\n",
              "      <td>VIIRS</td>\n",
              "      <td>n</td>\n",
              "      <td>2.0NRT</td>\n",
              "      <td>287.94</td>\n",
              "      <td>1.08</td>\n",
              "      <td>N</td>\n",
              "    </tr>\n",
              "    <tr>\n",
              "      <th>3</th>\n",
              "      <td>2.15681</td>\n",
              "      <td>13.94618</td>\n",
              "      <td>319.05</td>\n",
              "      <td>0.51</td>\n",
              "      <td>0.49</td>\n",
              "      <td>2023-07-12</td>\n",
              "      <td>3</td>\n",
              "      <td>N</td>\n",
              "      <td>VIIRS</td>\n",
              "      <td>n</td>\n",
              "      <td>2.0NRT</td>\n",
              "      <td>288.77</td>\n",
              "      <td>1.81</td>\n",
              "      <td>N</td>\n",
              "    </tr>\n",
              "    <tr>\n",
              "      <th>4</th>\n",
              "      <td>2.15754</td>\n",
              "      <td>13.94131</td>\n",
              "      <td>301.13</td>\n",
              "      <td>0.51</td>\n",
              "      <td>0.50</td>\n",
              "      <td>2023-07-12</td>\n",
              "      <td>3</td>\n",
              "      <td>N</td>\n",
              "      <td>VIIRS</td>\n",
              "      <td>n</td>\n",
              "      <td>2.0NRT</td>\n",
              "      <td>288.17</td>\n",
              "      <td>1.81</td>\n",
              "      <td>N</td>\n",
              "    </tr>\n",
              "  </tbody>\n",
              "</table>\n",
              "</div>"
            ],
            "text/plain": [
              "   latitude  longitude  bright_ti4  scan  track    acq_date  acq_time  \\\n",
              "0   0.05836   29.59085      295.64  0.38   0.59  2023-07-12         3   \n",
              "1   0.48765   31.50760      296.73  0.51   0.66  2023-07-12         3   \n",
              "2   2.15227   13.94524      305.26  0.51   0.49  2023-07-12         3   \n",
              "3   2.15681   13.94618      319.05  0.51   0.49  2023-07-12         3   \n",
              "4   2.15754   13.94131      301.13  0.51   0.50  2023-07-12         3   \n",
              "\n",
              "  satellite instrument confidence version  bright_ti5   frp daynight  \n",
              "0         N      VIIRS          n  2.0NRT      275.15  0.83        N  \n",
              "1         N      VIIRS          n  2.0NRT      275.15  0.56        N  \n",
              "2         N      VIIRS          n  2.0NRT      287.94  1.08        N  \n",
              "3         N      VIIRS          n  2.0NRT      288.77  1.81        N  \n",
              "4         N      VIIRS          n  2.0NRT      288.17  1.81        N  "
            ]
          },
          "execution_count": 3,
          "metadata": {},
          "output_type": "execute_result"
        }
      ],
      "source": [
        "# Now, display the first 5 records from our dataset\n",
        "\n",
        "df.head()"
      ]
    },
    {
      "cell_type": "code",
      "execution_count": 4,
      "metadata": {
        "colab": {
          "base_uri": "https://localhost:8080/",
          "height": 206
        },
        "id": "ATqyzUfQtIs2",
        "outputId": "2bf499a4-0ba7-425b-9031-6e9bbf89e5c2"
      },
      "outputs": [
        {
          "data": {
            "text/html": [
              "<div>\n",
              "<style scoped>\n",
              "    .dataframe tbody tr th:only-of-type {\n",
              "        vertical-align: middle;\n",
              "    }\n",
              "\n",
              "    .dataframe tbody tr th {\n",
              "        vertical-align: top;\n",
              "    }\n",
              "\n",
              "    .dataframe thead th {\n",
              "        text-align: right;\n",
              "    }\n",
              "</style>\n",
              "<table border=\"1\" class=\"dataframe\">\n",
              "  <thead>\n",
              "    <tr style=\"text-align: right;\">\n",
              "      <th></th>\n",
              "      <th>latitude</th>\n",
              "      <th>longitude</th>\n",
              "      <th>bright_ti4</th>\n",
              "      <th>scan</th>\n",
              "      <th>track</th>\n",
              "      <th>acq_date</th>\n",
              "      <th>acq_time</th>\n",
              "      <th>satellite</th>\n",
              "      <th>instrument</th>\n",
              "      <th>confidence</th>\n",
              "      <th>version</th>\n",
              "      <th>bright_ti5</th>\n",
              "      <th>frp</th>\n",
              "      <th>daynight</th>\n",
              "    </tr>\n",
              "  </thead>\n",
              "  <tbody>\n",
              "    <tr>\n",
              "      <th>74600</th>\n",
              "      <td>61.42408</td>\n",
              "      <td>-110.40578</td>\n",
              "      <td>350.48</td>\n",
              "      <td>0.4</td>\n",
              "      <td>0.4</td>\n",
              "      <td>2023-07-12</td>\n",
              "      <td>1950</td>\n",
              "      <td>N</td>\n",
              "      <td>VIIRS</td>\n",
              "      <td>n</td>\n",
              "      <td>2.0URT</td>\n",
              "      <td>309.39</td>\n",
              "      <td>16.01</td>\n",
              "      <td>D</td>\n",
              "    </tr>\n",
              "    <tr>\n",
              "      <th>74601</th>\n",
              "      <td>61.42510</td>\n",
              "      <td>-110.39867</td>\n",
              "      <td>336.03</td>\n",
              "      <td>0.4</td>\n",
              "      <td>0.4</td>\n",
              "      <td>2023-07-12</td>\n",
              "      <td>1950</td>\n",
              "      <td>N</td>\n",
              "      <td>VIIRS</td>\n",
              "      <td>l</td>\n",
              "      <td>2.0URT</td>\n",
              "      <td>308.08</td>\n",
              "      <td>32.98</td>\n",
              "      <td>D</td>\n",
              "    </tr>\n",
              "    <tr>\n",
              "      <th>74602</th>\n",
              "      <td>61.42733</td>\n",
              "      <td>-110.40780</td>\n",
              "      <td>328.53</td>\n",
              "      <td>0.4</td>\n",
              "      <td>0.4</td>\n",
              "      <td>2023-07-12</td>\n",
              "      <td>1950</td>\n",
              "      <td>N</td>\n",
              "      <td>VIIRS</td>\n",
              "      <td>n</td>\n",
              "      <td>2.0URT</td>\n",
              "      <td>298.15</td>\n",
              "      <td>16.01</td>\n",
              "      <td>D</td>\n",
              "    </tr>\n",
              "    <tr>\n",
              "      <th>74603</th>\n",
              "      <td>61.42834</td>\n",
              "      <td>-110.40069</td>\n",
              "      <td>338.45</td>\n",
              "      <td>0.4</td>\n",
              "      <td>0.4</td>\n",
              "      <td>2023-07-12</td>\n",
              "      <td>1950</td>\n",
              "      <td>N</td>\n",
              "      <td>VIIRS</td>\n",
              "      <td>n</td>\n",
              "      <td>2.0URT</td>\n",
              "      <td>302.81</td>\n",
              "      <td>32.98</td>\n",
              "      <td>D</td>\n",
              "    </tr>\n",
              "    <tr>\n",
              "      <th>74604</th>\n",
              "      <td>61.42936</td>\n",
              "      <td>-110.39356</td>\n",
              "      <td>339.52</td>\n",
              "      <td>0.4</td>\n",
              "      <td>0.4</td>\n",
              "      <td>2023-07-12</td>\n",
              "      <td>1950</td>\n",
              "      <td>N</td>\n",
              "      <td>VIIRS</td>\n",
              "      <td>n</td>\n",
              "      <td>2.0URT</td>\n",
              "      <td>306.58</td>\n",
              "      <td>32.98</td>\n",
              "      <td>D</td>\n",
              "    </tr>\n",
              "  </tbody>\n",
              "</table>\n",
              "</div>"
            ],
            "text/plain": [
              "       latitude  longitude  bright_ti4  scan  track    acq_date  acq_time  \\\n",
              "74600  61.42408 -110.40578      350.48   0.4    0.4  2023-07-12      1950   \n",
              "74601  61.42510 -110.39867      336.03   0.4    0.4  2023-07-12      1950   \n",
              "74602  61.42733 -110.40780      328.53   0.4    0.4  2023-07-12      1950   \n",
              "74603  61.42834 -110.40069      338.45   0.4    0.4  2023-07-12      1950   \n",
              "74604  61.42936 -110.39356      339.52   0.4    0.4  2023-07-12      1950   \n",
              "\n",
              "      satellite instrument confidence version  bright_ti5    frp daynight  \n",
              "74600         N      VIIRS          n  2.0URT      309.39  16.01        D  \n",
              "74601         N      VIIRS          l  2.0URT      308.08  32.98        D  \n",
              "74602         N      VIIRS          n  2.0URT      298.15  16.01        D  \n",
              "74603         N      VIIRS          n  2.0URT      302.81  32.98        D  \n",
              "74604         N      VIIRS          n  2.0URT      306.58  32.98        D  "
            ]
          },
          "execution_count": 4,
          "metadata": {},
          "output_type": "execute_result"
        }
      ],
      "source": [
        "# show the last 5 records from our dataset\n",
        "\n",
        "df.tail()"
      ]
    },
    {
      "cell_type": "code",
      "execution_count": 5,
      "metadata": {
        "colab": {
          "base_uri": "https://localhost:8080/"
        },
        "id": "wsNdpSw1Ywzn",
        "outputId": "24c03971-9955-4222-b7f4-6bd25af6d2d6"
      },
      "outputs": [
        {
          "name": "stdout",
          "output_type": "stream",
          "text": [
            "Checking for unique version values:\n"
          ]
        },
        {
          "data": {
            "text/plain": [
              "array(['2.0NRT', '2.0URT'], dtype=object)"
            ]
          },
          "execution_count": 5,
          "metadata": {},
          "output_type": "execute_result"
        }
      ],
      "source": [
        "# check for unique version values\n",
        "\n",
        "print ('Checking for unique version values:')\n",
        "df['version'].unique()"
      ]
    },
    {
      "cell_type": "code",
      "execution_count": 6,
      "metadata": {
        "colab": {
          "base_uri": "https://localhost:8080/"
        },
        "id": "G0ZQ7tnFgXvn",
        "outputId": "90fc8c59-bdb5-4f12-9eba-6f731c634d68"
      },
      "outputs": [
        {
          "name": "stdout",
          "output_type": "stream",
          "text": [
            "Version 2.0NRT has 69507 records and version 2.0URT has 5098 records\n"
          ]
        }
      ],
      "source": [
        "# now let's also see how many records are with one version vs another\n",
        "\n",
        "print ('Version 2.0NRT has %i records and version 2.0URT has %i records' % (len(df[df['version']=='2.0NRT']), len(df[df['version']=='2.0URT'])))"
      ]
    },
    {
      "cell_type": "markdown",
      "metadata": {
        "id": "vB3LRG5uI4hq"
      },
      "source": [
        "\n",
        "Notice, how '**version**' column contains different values for *df.head()* and *df.tail()*. This can also be checked as: *df['version'].unique()*.\n",
        "\n",
        "Aside for version difference, all the other values are populated and maintained in the same format. There may be a small difference in detections between these versions as they use slightly different algorithms, but overall, these detections are consistent.\n",
        "\n",
        "To better understand differences in **version** and how it is generated, visit:\n",
        "\n",
        "[Wildfire detection in the US and Canada within a minute of satellite observation](https://wiki.earthdata.nasa.gov/pages/viewpage.action?pageId=258343755)\n",
        "\n",
        "[Are there particular differences between URT data, RT data and NRT data?](https://www.earthdata.nasa.gov/faq/firms-faq#ed-urt-rt-nrt-differences)"
      ]
    },
    {
      "cell_type": "markdown",
      "metadata": {
        "id": "ceFO8UQkcMDE"
      },
      "source": [
        "---\n",
        "\n",
        "## Subsetting\n",
        "\n",
        "---"
      ]
    },
    {
      "cell_type": "markdown",
      "metadata": {
        "id": "dZGt7AuqabUz"
      },
      "source": [
        "\n",
        "Our sample dataset contains entire world. Let's say we want to quickly look at Canada. For simplicity, we don't use more complex polygons defining the country shape, but rather more \"crude\" bounding box. To provide datasets relevant to specific regions, our system pre-generates them for various parts of the world: [Regional Coordinates](https://firms.modaps.eosdis.nasa.gov/active_fire/coordinates.html)"
      ]
    },
    {
      "cell_type": "code",
      "execution_count": 7,
      "metadata": {
        "colab": {
          "base_uri": "https://localhost:8080/"
        },
        "id": "YMOIaFMpaQ1T",
        "outputId": "dfb2f8d6-f55e-4ddd-8cbc-a5523e74cea9"
      },
      "outputs": [
        {
          "name": "stdout",
          "output_type": "stream",
          "text": [
            "Canada subset contains 14045 records.\n"
          ]
        }
      ],
      "source": [
        "import pandas as pd\n",
        "df = pd.read_csv('https://firms.modaps.eosdis.nasa.gov/content/notebooks/sample_viirs_snpp_071223.csv')\n",
        "\n",
        "# From 'Regional Coordinates' we can get Canada's approximate bounding box\n",
        "# Canada coordinates: West South, East North as -150 40, -49 79\n",
        "\n",
        "# copy() - will create a duplicate dataset with Canada data only\n",
        "df_canada = df[(df['longitude'] >= -150) & (df['latitude'] >= 40) & (df['longitude'] <= -49) & (df['latitude'] <= 79)].copy()\n",
        "print ('Canada subset contains %i records.' % len(df_canada))"
      ]
    },
    {
      "cell_type": "code",
      "execution_count": 8,
      "metadata": {
        "colab": {
          "base_uri": "https://localhost:8080/"
        },
        "id": "p910SRTfehi8",
        "outputId": "f513a397-0a01-435c-ddb5-66fa0ab9a701"
      },
      "outputs": [
        {
          "name": "stdout",
          "output_type": "stream",
          "text": [
            "Australia and New Zealand subset contains 2999 records.\n"
          ]
        }
      ],
      "source": [
        "# Let's also create another one for Australia and New Zealand for our later example\n",
        "# Australia and New Zealand coordinates: West South, East North as 110 -55, 180 -10\n",
        "\n",
        "# alternatively, we can assign extent values into an array\n",
        "extent = [110, -55, 180, -10]\n",
        "df_aus_nz = df[(df['longitude'] >= extent[0]) & (df['latitude'] >= extent[1]) & (df['longitude'] <= extent[2]) & (df['latitude'] <= extent[3])].copy()\n",
        "print ('Australia and New Zealand subset contains %i records.' % len(df_aus_nz))"
      ]
    },
    {
      "cell_type": "markdown",
      "metadata": {
        "id": "rjQmi6B6hbLX"
      },
      "source": [
        "We can further play with subsetting, for example, we can look at values that have confidence '**normal**' or '**high**', have fire radiative power (**frp**) equal or higher than 5 and include only daytime detection as daynight='**D**'.\n",
        "\n",
        "\n",
        "Our day time query condition is: **(confidence='n' or confidence='h') and frp >=5 and daynight='D'**\n",
        "\n",
        "For night time query the condition is: **(confidence='n' or confidence='h') and frp >=5 and daynight='N'**\n",
        "\n",
        "\n",
        "**Note**: other datasets (MODIS, Landsat, ...) may include confidence as integer between 0..100"
      ]
    },
    {
      "cell_type": "code",
      "execution_count": 9,
      "metadata": {
        "colab": {
          "base_uri": "https://localhost:8080/"
        },
        "id": "pZsVvDHMso8P",
        "outputId": "07b75e4d-cd70-4d9c-84b0-4dbb062e7475"
      },
      "outputs": [
        {
          "name": "stdout",
          "output_type": "stream",
          "text": [
            "Day time detection with normal and high confidence and frp > 5 contains 35504 records\n",
            "Night time detections with normal and high confidence and frp > 5 contains 2683 records\n"
          ]
        }
      ],
      "source": [
        "# Let's subset our data to values with confidence normal 'n' and high 'h'\n",
        "# and fire radiative power (frp) higher or equal to 5\n",
        "\n",
        "df_custom_day = df[((df['confidence'] == 'n') | (df['confidence'] == 'h')) & (df['frp'] >= 5) & (df['daynight'] == 'D')]\n",
        "print ('Day time detection with normal and high confidence and frp > 5 contains %i records' %  len(df_custom_day))\n",
        "\n",
        "# the same as above but with night detections\n",
        "\n",
        "df_custom_night = df[((df['confidence'] == 'n') | (df['confidence'] == 'h')) & (df['frp'] >= 5) & (df['daynight'] == 'N')]\n",
        "print ('Night time detections with normal and high confidence and frp > 5 contains %i records' %  len(df_custom_night))\n"
      ]
    },
    {
      "cell_type": "markdown",
      "metadata": {
        "id": "IwSNhMPRjWk0"
      },
      "source": [
        "---\n",
        "\n",
        "## Datetime Conversion and Timezones\n",
        "\n",
        "---"
      ]
    },
    {
      "cell_type": "markdown",
      "metadata": {
        "id": "A4G-mdFlkFuY"
      },
      "source": [
        "We have generated two fire detection sets (Canada, Australia and New Zealand). Now, let's look at converting date/time to their specific timezone as this information is easier to understand than GMT.\n",
        "\n",
        "Canada timezones: [https://nrc.canada.ca](https://nrc.canada.ca/en/certifications-evaluations-standards/canadas-official-time/time-zones-daylight-saving-time)\n",
        "\n",
        "USA timezones: [https://www.time.gov](https://www.time.gov)\n",
        "\n",
        "---\n",
        "\n",
        "The GMT or \"Greenwich Mean Time\" refers to the time zone at the zero degree of longitude that runs through the London suburb of Greenwich, from which it takes its name. It is also called the zero meridian.\n",
        "\n",
        "---\n",
        "\n"
      ]
    },
    {
      "cell_type": "markdown",
      "metadata": {
        "id": "ueeNkEWptYop"
      },
      "source": [
        "We will create a new column called '**acq_datetime**' which will convert **acq_date** and **acq_time** into datetime object.\n",
        "\n",
        "To do that we will use **pd.to_datetime** pandas function that converts numbers or strings into datetime object: [pandas.to_datetime](https://pandas.pydata.org/docs/reference/api/pandas.to_datetime.html)\n",
        "\n",
        "---\n",
        "\n",
        "Our conversion for Canada dataset:\n",
        "\n",
        "**pd.to_datetime**(df_canada['acq_date'] + ' ' + df_canada['acq_time'].astype(str).str.zfill(4), format='%Y-%m-%d %H%M')\n",
        "\n",
        "---\n",
        "\n",
        "**acq_date** column hold date information as a string in format 'YYYY-MM-DD' ex: 2023-07-12 which is July 12 2023\n",
        "\n",
        "**acq_time** columns is integer between 0..2359; ex: 410 means 04:10\n",
        "\n",
        "---\n",
        "Since acq_time is a number, we want to convert it into string with leading zeros, so 410 becomes 0410. To do that:\n",
        "- convert acq_time from integer to string -> **astype(str)**\n",
        "- pad the string with up to 4 leading zeros (if applicable) using [pandas.zfill](https://pandas.pydata.org/docs/reference/api/pandas.Series.str.zfill.html), so 410 becomes '0410' or 1 becomes 0001\n",
        "\n",
        "---\n",
        "\n",
        "Now the converted string can be used in **pd.to_datetime** function using date-time format matching our data: **format='%Y-%m-%d %H%M'**\n",
        "\n"
      ]
    },
    {
      "cell_type": "code",
      "execution_count": 10,
      "metadata": {
        "colab": {
          "base_uri": "https://localhost:8080/"
        },
        "id": "2LbjXZdelzZn",
        "outputId": "b93c8db4-d0cd-43c7-8806-bd2f5df6d6b2"
      },
      "outputs": [
        {
          "name": "stdout",
          "output_type": "stream",
          "text": [
            "Canada sample datetime info:\n"
          ]
        },
        {
          "data": {
            "text/plain": [
              "24292   2023-07-12 09:58:00\n",
              "40180   2023-07-12 11:40:00\n",
              "40219   2023-07-12 11:40:00\n",
              "73384   2023-07-12 19:50:00\n",
              "70087   2023-07-12 18:06:00\n",
              "Name: acq_datetime, dtype: datetime64[ns]"
            ]
          },
          "execution_count": 10,
          "metadata": {},
          "output_type": "execute_result"
        }
      ],
      "source": [
        "# reload just in case steps were missed\n",
        "import pandas as pd\n",
        "df = pd.read_csv('https://firms.modaps.eosdis.nasa.gov/content/notebooks/sample_viirs_snpp_071223.csv')\n",
        "df_canada = df[(df['longitude'] >= -150) & (df['latitude'] >= 40) & (df['longitude'] <= -49) & (df['latitude'] <= 79)].copy()\n",
        "df_aus_nz = df[(df['longitude'] >= 110) & (df['latitude'] >= -55) & (df['longitude'] <= 180) & (df['latitude'] <=-10)].copy()\n",
        "\n",
        "\n",
        "# let's create datetime column in our dataset combining acq_date and acq_time\n",
        "\n",
        "df_canada['acq_datetime'] = pd.to_datetime(df_canada['acq_date'] + ' ' + df_canada['acq_time'].astype(str).str.zfill(4), format='%Y-%m-%d %H%M')\n",
        "\n",
        "# view random 5 records to confirm our conversion.\n",
        "# note: seconds are set to 0; as our dataset doesn't provide information about seconds\n",
        "\n",
        "print ('Canada sample datetime info:')\n",
        "df_canada['acq_datetime'].sample(5)\n"
      ]
    },
    {
      "cell_type": "code",
      "execution_count": 11,
      "metadata": {
        "colab": {
          "base_uri": "https://localhost:8080/"
        },
        "id": "S0opafoqqRz9",
        "outputId": "5dea0347-ee86-477f-cfde-7d74c219823f"
      },
      "outputs": [
        {
          "name": "stdout",
          "output_type": "stream",
          "text": [
            "Canada datetime value range: 2023-07-12 04:53:00 to 2023-07-12 19:50:00\n"
          ]
        }
      ],
      "source": [
        "# Now let's see the minimum and maximum datetime range available for Canada\n",
        "\n",
        "print ('Canada datetime value range: %s to %s' % (str(df_canada['acq_datetime'].min()), str(df_canada['acq_datetime'].max())))"
      ]
    },
    {
      "cell_type": "markdown",
      "metadata": {
        "id": "KpJdmpKApvOu"
      },
      "source": [
        "**Note**: seconds are set to 0 as our dataset doesn't provide information about seconds"
      ]
    },
    {
      "cell_type": "markdown",
      "metadata": {
        "id": "68MJecCF1nq2"
      },
      "source": [
        "---\n",
        "\n",
        "Let's see what timezones are available for Canada:\n"
      ]
    },
    {
      "cell_type": "code",
      "execution_count": 12,
      "metadata": {
        "colab": {
          "base_uri": "https://localhost:8080/"
        },
        "id": "kuK5c1oo1rio",
        "outputId": "e4b3d6d4-33bc-4426-f636-a620127f4fec"
      },
      "outputs": [
        {
          "name": "stdout",
          "output_type": "stream",
          "text": [
            "Canada TimeZones\n",
            "America/St_Johns\n",
            "America/Halifax\n",
            "America/Glace_Bay\n",
            "America/Moncton\n",
            "America/Goose_Bay\n",
            "America/Blanc-Sablon\n",
            "America/Toronto\n",
            "America/Iqaluit\n",
            "America/Atikokan\n",
            "America/Winnipeg\n",
            "America/Resolute\n",
            "America/Rankin_Inlet\n",
            "America/Regina\n",
            "America/Swift_Current\n",
            "America/Edmonton\n",
            "America/Cambridge_Bay\n",
            "America/Inuvik\n",
            "America/Creston\n",
            "America/Dawson_Creek\n",
            "America/Fort_Nelson\n",
            "America/Whitehorse\n",
            "America/Dawson\n",
            "America/Vancouver\n"
          ]
        }
      ],
      "source": [
        "# import timezone library\n",
        "import pytz\n",
        "\n",
        "print('Canada TimeZones')\n",
        "for timeZone in pytz.country_timezones['CA']:\n",
        "    print(timeZone)"
      ]
    },
    {
      "cell_type": "code",
      "execution_count": 13,
      "metadata": {
        "colab": {
          "base_uri": "https://localhost:8080/"
        },
        "id": "UwEe3I8K2qTN",
        "outputId": "5a286e0d-16f5-4333-850a-14681e01e178"
      },
      "outputs": [
        {
          "name": "stdout",
          "output_type": "stream",
          "text": [
            "Canada GMT timezone datetime value range: 2023-07-12 04:53:00 to 2023-07-12 19:50:00\n",
            "Canada St Johns timezone datetime value range: 2023-07-12 02:23:00-02:30 to 2023-07-12 17:20:00-02:30\n",
            "Canada Toronto timezone datetime value range: 2023-07-12 00:53:00-04:00 to 2023-07-12 15:50:00-04:00\n",
            "Canada Vancouver timezone datetime value range: 2023-07-11 21:53:00-07:00 to 2023-07-12 12:50:00-07:00\n"
          ]
        }
      ],
      "source": [
        "# Let's compare our minimum and maximum date-time range converted using 3 different Canada time zones.\n",
        "# We will use:\n",
        "# Original GMT\n",
        "# St_Johns (GMT-2:30)\n",
        "# Toronto (GMT-4:00)\n",
        "# Vancouver (GMT-7:00)\n",
        "\n",
        "print ('Canada GMT timezone datetime value range: %s to %s' % (str(df_canada['acq_datetime'].min()), str(df_canada['acq_datetime'].max())))\n",
        "print ('Canada St Johns timezone datetime value range: %s to %s' % (str(df_canada['acq_datetime'].dt.tz_localize('GMT').dt.tz_convert('America/St_Johns').min()), str(df_canada['acq_datetime'].dt.tz_localize('GMT').dt.tz_convert('America/St_Johns').max())))\n",
        "print ('Canada Toronto timezone datetime value range: %s to %s' % (str(df_canada['acq_datetime'].dt.tz_localize('GMT').dt.tz_convert('America/Toronto').min()), str(df_canada['acq_datetime'].dt.tz_localize('GMT').dt.tz_convert('America/Toronto').max())))\n",
        "print ('Canada Vancouver timezone datetime value range: %s to %s' % (str(df_canada['acq_datetime'].dt.tz_localize('GMT').dt.tz_convert('America/Vancouver').min()), str(df_canada['acq_datetime'].dt.tz_localize('GMT').dt.tz_convert('America/Vancouver').max())))"
      ]
    },
    {
      "cell_type": "markdown",
      "metadata": {
        "id": "KEkvdFKt4HKO"
      },
      "source": [
        "**Note**: Vancouver start date is **2023-07-11** and St. Johns, New Foundland is shifted 2.5 hours"
      ]
    },
    {
      "cell_type": "markdown",
      "metadata": {
        "id": "sfloQRpT56j9"
      },
      "source": [
        "---\n",
        "\n",
        "Now let's check Australia and New Zealand"
      ]
    },
    {
      "cell_type": "code",
      "execution_count": 14,
      "metadata": {
        "colab": {
          "base_uri": "https://localhost:8080/"
        },
        "id": "kUIIZl_wqD7F",
        "outputId": "bf6f189e-091c-4c55-de86-8d1d09f25fce"
      },
      "outputs": [
        {
          "name": "stdout",
          "output_type": "stream",
          "text": [
            "Australia and New Zealand sample datetime info:\n"
          ]
        },
        {
          "data": {
            "text/plain": [
              "12262   2023-07-12 04:17:00\n",
              "11790   2023-07-12 04:17:00\n",
              "10475   2023-07-12 04:14:00\n",
              "11298   2023-07-12 04:17:00\n",
              "11645   2023-07-12 04:17:00\n",
              "Name: acq_datetime, dtype: datetime64[ns]"
            ]
          },
          "execution_count": 14,
          "metadata": {},
          "output_type": "execute_result"
        }
      ],
      "source": [
        "extent = [110, -55, 180, -10]\n",
        "df_aus_nz = df[(df['longitude'] >= extent[0]) & (df['latitude'] >= extent[1]) & (df['longitude'] <= extent[2]) & (df['latitude'] <= extent[3])].copy()\n",
        "\n",
        "# Now repeat for Australia and New Zealand\n",
        "\n",
        "df_aus_nz['acq_datetime'] = pd.to_datetime(df_aus_nz['acq_date'] + ' ' + df_aus_nz['acq_time'].astype(str).str.zfill(4), format='%Y-%m-%d %H%M')\n",
        "\n",
        "print ('Australia and New Zealand sample datetime info:')\n",
        "df_aus_nz['acq_datetime'].sample(5)"
      ]
    },
    {
      "cell_type": "code",
      "execution_count": 15,
      "metadata": {
        "colab": {
          "base_uri": "https://localhost:8080/"
        },
        "id": "CDHjsOiZ4tVV",
        "outputId": "9ef68c50-aa46-44d3-a23f-a24b9fbc4470"
      },
      "outputs": [
        {
          "name": "stdout",
          "output_type": "stream",
          "text": [
            "Australia TimeZones\n",
            "Australia/Lord_Howe\n",
            "Antarctica/Macquarie\n",
            "Australia/Hobart\n",
            "Australia/Melbourne\n",
            "Australia/Sydney\n",
            "Australia/Broken_Hill\n",
            "Australia/Brisbane\n",
            "Australia/Lindeman\n",
            "Australia/Adelaide\n",
            "Australia/Darwin\n",
            "Australia/Perth\n",
            "Australia/Eucla\n",
            "New Zealand TimeZones\n",
            "Pacific/Auckland\n",
            "Pacific/Chatham\n"
          ]
        }
      ],
      "source": [
        "# View Australia and New Zealand timezones\n",
        "\n",
        "print('Australia TimeZones')\n",
        "for timeZone in pytz.country_timezones['AU']:\n",
        "    print(timeZone)\n",
        "print('New Zealand TimeZones')\n",
        "for timeZone in pytz.country_timezones['NZ']:\n",
        "    print(timeZone)"
      ]
    },
    {
      "cell_type": "code",
      "execution_count": 16,
      "metadata": {
        "colab": {
          "base_uri": "https://localhost:8080/"
        },
        "id": "SepR6fmhq906",
        "outputId": "a13b64e9-df1f-4a08-9808-c4b5b30b56ac"
      },
      "outputs": [
        {
          "name": "stdout",
          "output_type": "stream",
          "text": [
            "Australia and New Zealand GMT timezone datetime value range: 2023-07-12 02:26:00 to 2023-07-12 15:31:00\n",
            "Australia Sydney timezone datetime value range: 2023-07-12 12:26:00+10:00 to 2023-07-13 01:31:00+10:00\n",
            "Australia Sydney timezone datetime value range: 2023-07-12 14:26:00+12:00 to 2023-07-13 03:31:00+12:00\n"
          ]
        }
      ],
      "source": [
        "# Finally compare GMT with Australia and New Zealand\n",
        "\n",
        "print ('Australia and New Zealand GMT timezone datetime value range: %s to %s' % (str(df_aus_nz['acq_datetime'].min()), str(df_aus_nz['acq_datetime'].max())))\n",
        "print ('Australia Sydney timezone datetime value range: %s to %s' % (str(df_aus_nz['acq_datetime'].dt.tz_localize('GMT').dt.tz_convert('Australia/Sydney').min()), str(df_aus_nz['acq_datetime'].dt.tz_localize('GMT').dt.tz_convert('Australia/Sydney').max())))\n",
        "print ('Australia Sydney timezone datetime value range: %s to %s' % (str(df_aus_nz['acq_datetime'].dt.tz_localize('GMT').dt.tz_convert('Pacific/Auckland').min()), str(df_aus_nz['acq_datetime'].dt.tz_localize('GMT').dt.tz_convert('Pacific/Auckland').max())))"
      ]
    },
    {
      "cell_type": "markdown",
      "metadata": {
        "id": "U-2sWRso5kCk"
      },
      "source": [
        "**Note**: both timezones have maximum datetime range extending into **2023-07-13**"
      ]
    },
    {
      "cell_type": "markdown",
      "metadata": {
        "id": "0pAP6Hx95zrN"
      },
      "source": [
        "---\n",
        "\n",
        "For the United States, the full list of time zones"
      ]
    },
    {
      "cell_type": "code",
      "execution_count": 17,
      "metadata": {
        "colab": {
          "base_uri": "https://localhost:8080/"
        },
        "id": "z2QXcBwh6M66",
        "outputId": "4ea4028f-e800-4ebd-dd4e-6ce90aad28be"
      },
      "outputs": [
        {
          "name": "stdout",
          "output_type": "stream",
          "text": [
            "America/New_York\n",
            "America/Detroit\n",
            "America/Kentucky/Louisville\n",
            "America/Kentucky/Monticello\n",
            "America/Indiana/Indianapolis\n",
            "America/Indiana/Vincennes\n",
            "America/Indiana/Winamac\n",
            "America/Indiana/Marengo\n",
            "America/Indiana/Petersburg\n",
            "America/Indiana/Vevay\n",
            "America/Chicago\n",
            "America/Indiana/Tell_City\n",
            "America/Indiana/Knox\n",
            "America/Menominee\n",
            "America/North_Dakota/Center\n",
            "America/North_Dakota/New_Salem\n",
            "America/North_Dakota/Beulah\n",
            "America/Denver\n",
            "America/Boise\n",
            "America/Phoenix\n",
            "America/Los_Angeles\n",
            "America/Anchorage\n",
            "America/Juneau\n",
            "America/Sitka\n",
            "America/Metlakatla\n",
            "America/Yakutat\n",
            "America/Nome\n",
            "America/Adak\n",
            "Pacific/Honolulu\n"
          ]
        }
      ],
      "source": [
        "for timeZone in pytz.country_timezones['US']:\n",
        "    print(timeZone)"
      ]
    },
    {
      "cell_type": "markdown",
      "metadata": {
        "id": "TSoOQNHx6RRo"
      },
      "source": [
        "---\n",
        "\n",
        "## Summary\n",
        "\n",
        "---"
      ]
    },
    {
      "cell_type": "markdown",
      "metadata": {
        "id": "OSmYJh0G6Y-3"
      },
      "source": [
        "Thank you for taking time to go over the tutorial. We hope you enjoyed it and if you have any questions or comments please use the 'Feedback' form at the top of our site [firms.modaps.eosdis.nasa.gov](https://firms.modaps.eosdis.nasa.gov)"
      ]
    },
    {
      "cell_type": "code",
      "execution_count": 18,
      "metadata": {
        "colab": {
          "base_uri": "https://localhost:8080/",
          "height": 278
        },
        "id": "OUWQCJht7UQk",
        "outputId": "54fa909e-a9fd-4e2f-e89c-036aebee481d"
      },
      "outputs": [
        {
          "name": "stdout",
          "output_type": "stream",
          "text": [
            "Canada subset contains 14045 records.\n",
            "Canada/Toronto timezone datetime value range: 2023-07-12 00:53:00-04:00 to 2023-07-12 15:50:00-04:00 \n",
            "\n",
            "\n"
          ]
        },
        {
          "name": "stderr",
          "output_type": "stream",
          "text": [
            "/var/folders/xs/759nsb412kq1j2kcfl4f0p_80000gn/T/ipykernel_22727/3672744914.py:10: FutureWarning: Series.__getitem__ treating keys as positions is deprecated. In a future version, integer keys will always be treated as labels (consistent with DataFrame behavior). To access a value by position, use `ser.iloc[pos]`\n",
            "  print ('Canada subset contains %i records.' % df_canada.count()[0])\n"
          ]
        },
        {
          "data": {
            "text/html": [
              "<div>\n",
              "<style scoped>\n",
              "    .dataframe tbody tr th:only-of-type {\n",
              "        vertical-align: middle;\n",
              "    }\n",
              "\n",
              "    .dataframe tbody tr th {\n",
              "        vertical-align: top;\n",
              "    }\n",
              "\n",
              "    .dataframe thead th {\n",
              "        text-align: right;\n",
              "    }\n",
              "</style>\n",
              "<table border=\"1\" class=\"dataframe\">\n",
              "  <thead>\n",
              "    <tr style=\"text-align: right;\">\n",
              "      <th></th>\n",
              "      <th>latitude</th>\n",
              "      <th>longitude</th>\n",
              "      <th>bright_ti4</th>\n",
              "      <th>scan</th>\n",
              "      <th>track</th>\n",
              "      <th>acq_date</th>\n",
              "      <th>acq_time</th>\n",
              "      <th>satellite</th>\n",
              "      <th>instrument</th>\n",
              "      <th>confidence</th>\n",
              "      <th>version</th>\n",
              "      <th>bright_ti5</th>\n",
              "      <th>frp</th>\n",
              "      <th>daynight</th>\n",
              "      <th>acq_datetime</th>\n",
              "    </tr>\n",
              "  </thead>\n",
              "  <tbody>\n",
              "    <tr>\n",
              "      <th>72231</th>\n",
              "      <td>57.42496</td>\n",
              "      <td>-120.19099</td>\n",
              "      <td>327.25</td>\n",
              "      <td>0.40</td>\n",
              "      <td>0.50</td>\n",
              "      <td>2023-07-12</td>\n",
              "      <td>1949</td>\n",
              "      <td>N</td>\n",
              "      <td>VIIRS</td>\n",
              "      <td>l</td>\n",
              "      <td>2.0URT</td>\n",
              "      <td>297.84</td>\n",
              "      <td>8.54</td>\n",
              "      <td>D</td>\n",
              "      <td>2023-07-12 19:49:00</td>\n",
              "    </tr>\n",
              "    <tr>\n",
              "      <th>71334</th>\n",
              "      <td>53.29515</td>\n",
              "      <td>-123.62290</td>\n",
              "      <td>332.85</td>\n",
              "      <td>0.40</td>\n",
              "      <td>0.60</td>\n",
              "      <td>2023-07-12</td>\n",
              "      <td>1949</td>\n",
              "      <td>N</td>\n",
              "      <td>VIIRS</td>\n",
              "      <td>n</td>\n",
              "      <td>2.0URT</td>\n",
              "      <td>289.52</td>\n",
              "      <td>8.53</td>\n",
              "      <td>D</td>\n",
              "      <td>2023-07-12 19:49:00</td>\n",
              "    </tr>\n",
              "    <tr>\n",
              "      <th>20080</th>\n",
              "      <td>63.09755</td>\n",
              "      <td>-112.05924</td>\n",
              "      <td>296.05</td>\n",
              "      <td>0.61</td>\n",
              "      <td>0.71</td>\n",
              "      <td>2023-07-12</td>\n",
              "      <td>816</td>\n",
              "      <td>N</td>\n",
              "      <td>VIIRS</td>\n",
              "      <td>n</td>\n",
              "      <td>2.0NRT</td>\n",
              "      <td>281.04</td>\n",
              "      <td>1.37</td>\n",
              "      <td>N</td>\n",
              "      <td>2023-07-12 08:16:00</td>\n",
              "    </tr>\n",
              "    <tr>\n",
              "      <th>23050</th>\n",
              "      <td>59.47316</td>\n",
              "      <td>-112.10567</td>\n",
              "      <td>302.90</td>\n",
              "      <td>0.38</td>\n",
              "      <td>0.36</td>\n",
              "      <td>2023-07-12</td>\n",
              "      <td>958</td>\n",
              "      <td>N</td>\n",
              "      <td>VIIRS</td>\n",
              "      <td>n</td>\n",
              "      <td>2.0NRT</td>\n",
              "      <td>287.84</td>\n",
              "      <td>1.69</td>\n",
              "      <td>N</td>\n",
              "      <td>2023-07-12 09:58:00</td>\n",
              "    </tr>\n",
              "    <tr>\n",
              "      <th>39537</th>\n",
              "      <td>53.79087</td>\n",
              "      <td>-124.36275</td>\n",
              "      <td>367.00</td>\n",
              "      <td>0.39</td>\n",
              "      <td>0.59</td>\n",
              "      <td>2023-07-12</td>\n",
              "      <td>1140</td>\n",
              "      <td>N</td>\n",
              "      <td>VIIRS</td>\n",
              "      <td>h</td>\n",
              "      <td>2.0NRT</td>\n",
              "      <td>291.76</td>\n",
              "      <td>22.84</td>\n",
              "      <td>N</td>\n",
              "      <td>2023-07-12 11:40:00</td>\n",
              "    </tr>\n",
              "  </tbody>\n",
              "</table>\n",
              "</div>"
            ],
            "text/plain": [
              "       latitude  longitude  bright_ti4  scan  track    acq_date  acq_time  \\\n",
              "72231  57.42496 -120.19099      327.25  0.40   0.50  2023-07-12      1949   \n",
              "71334  53.29515 -123.62290      332.85  0.40   0.60  2023-07-12      1949   \n",
              "20080  63.09755 -112.05924      296.05  0.61   0.71  2023-07-12       816   \n",
              "23050  59.47316 -112.10567      302.90  0.38   0.36  2023-07-12       958   \n",
              "39537  53.79087 -124.36275      367.00  0.39   0.59  2023-07-12      1140   \n",
              "\n",
              "      satellite instrument confidence version  bright_ti5    frp daynight  \\\n",
              "72231         N      VIIRS          l  2.0URT      297.84   8.54        D   \n",
              "71334         N      VIIRS          n  2.0URT      289.52   8.53        D   \n",
              "20080         N      VIIRS          n  2.0NRT      281.04   1.37        N   \n",
              "23050         N      VIIRS          n  2.0NRT      287.84   1.69        N   \n",
              "39537         N      VIIRS          h  2.0NRT      291.76  22.84        N   \n",
              "\n",
              "             acq_datetime  \n",
              "72231 2023-07-12 19:49:00  \n",
              "71334 2023-07-12 19:49:00  \n",
              "20080 2023-07-12 08:16:00  \n",
              "23050 2023-07-12 09:58:00  \n",
              "39537 2023-07-12 11:40:00  "
            ]
          },
          "execution_count": 18,
          "metadata": {},
          "output_type": "execute_result"
        }
      ],
      "source": [
        "# Summarizing the tutorial:\n",
        "\n",
        "import pandas as pd\n",
        "df = pd.read_csv('https://firms.modaps.eosdis.nasa.gov/content/notebooks/sample_viirs_snpp_071223.csv')\n",
        "df_canada = df[(df['longitude'] >= -150) & (df['latitude'] >= 40) & (df['longitude'] <= -49) & (df['latitude'] <= 79)].copy()\n",
        "\n",
        "# create Canada subset\n",
        "df_canada = df[(df['longitude'] >= -150) & (df['latitude'] >= 40) & (df['longitude'] <= -49) & (df['latitude'] <= 79)].copy()\n",
        "\n",
        "print ('Canada subset contains %i records.' % df_canada.count()[0])\n",
        "\n",
        "# create datetime column\n",
        "df_canada['acq_datetime'] = pd.to_datetime(df_canada['acq_date'] + ' ' + df_canada['acq_time'].astype(str).str.zfill(4), format='%Y-%m-%d %H%M')\n",
        "\n",
        "print ('Canada/Toronto timezone datetime value range: %s to %s \\n\\n' % (str(df_canada['acq_datetime'].dt.tz_localize('GMT').dt.tz_convert('America/Toronto').min()), str(df_canada['acq_datetime'].dt.tz_localize('GMT').dt.tz_convert('America/Toronto').max())))\n",
        "\n",
        "df_canada.sample(5)\n",
        "\n"
      ]
    },
    {
      "cell_type": "markdown",
      "metadata": {
        "id": "DjN-qiiLtQ0G"
      },
      "source": [
        "---\n",
        "## Exercise\n",
        "---"
      ]
    },
    {
      "cell_type": "markdown",
      "metadata": {
        "id": "Q8zR3XBZtbUb"
      },
      "source": [
        "Using the information from this module, see if you can answer following questions:\n",
        "\n",
        "- Using [Regional Coordinates](https://firms.modaps.eosdis.nasa.gov/active_fire/coordinates.html), how many fire detections are there for USA (Conterminous) and Hawaii?\n",
        "- Applying 'Pacific/Honolulu' timezone, what is the minimum and maximum date range of USA (Conterminous) and Hawaii fire detections?\n",
        "- How many USA (Conterminous) and Hawaii records are ultra real time? (*Hint: use 'version' column and set it to '2.0URT'*)"
      ]
    },
    {
      "cell_type": "code",
      "execution_count": null,
      "metadata": {
        "id": "vO-8wxGguHS-"
      },
      "outputs": [],
      "source": [
        "import pandas as pd\n",
        "\n",
        "df = pd.read_csv('https://firms.modaps.eosdis.nasa.gov/content/notebooks/sample_viirs_snpp_071223.csv')\n"
      ]
    },
    {
      "cell_type": "code",
      "execution_count": null,
      "metadata": {
        "id": "_MjqcYcYvfTc"
      },
      "outputs": [],
      "source": [
        "# Question 1: using Regional Coordinates, how many fire detections are there for USA (Conterminous) and Hawaii?\n",
        "\n",
        "extent = [?,?,?,?] # get USA (Conterminous) and Hawaii extent\n",
        "df_usa = df[(df['longitude'] >= extent[0]) & (df['latitude'] >= extent[1]) & (df['longitude'] <= extent[2]) & (df['latitude'] <= extent[3])].copy()\n",
        "\n",
        "total_fires = len(df_usa) # provide count of records for df_usa\n",
        "\n",
        "print ('Answer 1: There are %i detections for USA (Conterminous) and Hawaii' % total_fires)\n"
      ]
    },
    {
      "cell_type": "code",
      "execution_count": null,
      "metadata": {
        "id": "hbPwF9R8wNdI"
      },
      "outputs": [],
      "source": [
        "# Question 2: applying 'Pacific/Honolulu' timezone, what is the minimum and maximum date range of USA (Conterminous) and Hawaii fire detections?\n",
        "\n",
        "df_usa['acq_datetime'] = ? # set this value\n",
        "min_date = ? # get minimum acq_datetime from df_usa, applying 'Pacific/Honolulu' time zone\n",
        "max_date = ? # get maximum acq_datetime from df_usa, applying 'Pacific/Honolulu' time zone\n",
        "\n",
        "print ('Answer 2: For USA (Conterminous) and Hawaii, using Honolulu timezone, minimum date is %s and maximum date is %s' % (str(min_date), str(max_date)) )"
      ]
    },
    {
      "cell_type": "code",
      "execution_count": null,
      "metadata": {
        "id": "qgTG49lj07yU"
      },
      "outputs": [],
      "source": [
        "# Question 3: How many USA (Conterminous) and Hawaii records are ultra real time? (Hint: use 'version' column and set it to '2.0URT')\n",
        "\n",
        "urt_records = len(df_usa[?]) # set the query\n",
        "print ('There are %i ultra real time records.' % urt_records)"
      ]
    },
    {
      "cell_type": "markdown",
      "metadata": {
        "id": "EPjPklTNx-Oa"
      },
      "source": [
        "---\n",
        "**Answers**\n",
        "\n",
        "1: 900\n",
        "\n",
        "2: minimum date = 2023-07-11 20:37:00-10:00 and maximum date = 2023-07-12 09:46:00-10:00\n",
        "\n",
        "3: 324"
      ]
    },
    {
      "cell_type": "markdown",
      "metadata": {
        "id": "u2AdkbIb7I0o"
      },
      "source": [
        "---\n",
        "\n",
        "## Solution\n",
        "\n",
        "---"
      ]
    },
    {
      "cell_type": "code",
      "execution_count": 19,
      "metadata": {
        "colab": {
          "base_uri": "https://localhost:8080/"
        },
        "id": "7hE7OLm_7GyJ",
        "outputId": "07c90d4c-0b31-4012-e9ea-0a7fc9dd1604"
      },
      "outputs": [
        {
          "name": "stdout",
          "output_type": "stream",
          "text": [
            "Answer 1: There are 900 detections for USA (Conterminous) and Hawaii\n",
            "Answer 2: For USA (Conterminous) and Hawaii, using Honolulu timezone, minimum date is 2023-07-11 20:37:00-10:00 and maximum date is 2023-07-12 09:46:00-10:00\n",
            "There are 324 ultra real time records.\n"
          ]
        }
      ],
      "source": [
        "import pandas as pd\n",
        "import pytz\n",
        "\n",
        "df = pd.read_csv('https://firms.modaps.eosdis.nasa.gov/content/notebooks/sample_viirs_snpp_071223.csv')\n",
        "extent = [-160.5,17.5, -63.8,50] # get USA (Conterminous) and Hawaii extent\n",
        "df_usa = df[(df['longitude'] >= extent[0]) & (df['latitude'] >= extent[1]) & (df['longitude'] <= extent[2]) & (df['latitude'] <= extent[3])].copy()\n",
        "\n",
        "total_fires = len(df_usa) # provide count of records for df_usa\n",
        "\n",
        "print ('Answer 1: There are %i detections for USA (Conterminous) and Hawaii' % total_fires)\n",
        "\n",
        "df_usa['acq_datetime'] = pd.to_datetime(df_usa['acq_date'] + ' ' + df_usa['acq_time'].astype(str).str.zfill(4), format='%Y-%m-%d %H%M')\n",
        "min_date = df_usa['acq_datetime'].dt.tz_localize('GMT').dt.tz_convert('Pacific/Honolulu').min()\n",
        "max_date = df_usa['acq_datetime'].dt.tz_localize('GMT').dt.tz_convert('Pacific/Honolulu').max()\n",
        "\n",
        "print ('Answer 2: For USA (Conterminous) and Hawaii, using Honolulu timezone, minimum date is %s and maximum date is %s' % (str(min_date), str(max_date)) )\n",
        "\n",
        "urt_records = len(df_usa[df_usa['version'] == '2.0URT'])\n",
        "print ('There are %i ultra real time records.' % urt_records)"
      ]
    },
    {
      "cell_type": "markdown",
      "metadata": {
        "id": "7BR3VvOq6iC4"
      },
      "source": [
        "---\n",
        "\n",
        "## Errors\n",
        "\n",
        "---"
      ]
    },
    {
      "cell_type": "markdown",
      "metadata": {
        "id": "X721L5u86kqx"
      },
      "source": [
        "If your execution fails, make sure you execute all of the code above the failed section."
      ]
    }
  ],
  "metadata": {
    "colab": {
      "provenance": []
    },
    "kernelspec": {
      "display_name": "Climatech",
      "language": "python",
      "name": "climatech"
    },
    "language_info": {
      "codemirror_mode": {
        "name": "ipython",
        "version": 3
      },
      "file_extension": ".py",
      "mimetype": "text/x-python",
      "name": "python",
      "nbconvert_exporter": "python",
      "pygments_lexer": "ipython3",
      "version": "3.12.3"
    }
  },
  "nbformat": 4,
  "nbformat_minor": 0
}
