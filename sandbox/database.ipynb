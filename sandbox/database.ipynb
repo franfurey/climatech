{
 "cells": [
  {
   "cell_type": "code",
   "execution_count": 2,
   "metadata": {},
   "outputs": [],
   "source": [
    "import asyncio\n",
    "from sqlalchemy.ext.asyncio import create_async_engine, AsyncSession\n",
    "from sqlalchemy.orm import sessionmaker\n",
    "from sqlalchemy import text"
   ]
  },
  {
   "cell_type": "code",
   "execution_count": 2,
   "metadata": {},
   "outputs": [
    {
     "name": "stdout",
     "output_type": "stream",
     "text": [
      "2024-06-23 18:15:36,618 INFO sqlalchemy.engine.Engine select pg_catalog.version()\n"
     ]
    },
    {
     "name": "stdout",
     "output_type": "stream",
     "text": [
      "2024-06-23 18:15:36,618 INFO sqlalchemy.engine.Engine [raw sql] ()\n",
      "2024-06-23 18:15:36,620 INFO sqlalchemy.engine.Engine select current_schema()\n",
      "2024-06-23 18:15:36,621 INFO sqlalchemy.engine.Engine [raw sql] ()\n",
      "2024-06-23 18:15:36,622 INFO sqlalchemy.engine.Engine show standard_conforming_strings\n",
      "2024-06-23 18:15:36,622 INFO sqlalchemy.engine.Engine [raw sql] ()\n",
      "2024-06-23 18:15:36,623 INFO sqlalchemy.engine.Engine BEGIN (implicit)\n",
      "2024-06-23 18:15:36,624 INFO sqlalchemy.engine.Engine SELECT table_name FROM information_schema.tables WHERE table_schema='public'\n",
      "2024-06-23 18:15:36,624 INFO sqlalchemy.engine.Engine [generated in 0.00051s] ()\n",
      "--- Contenido de la tabla: geography_columns ---\n",
      "2024-06-23 18:15:36,632 INFO sqlalchemy.engine.Engine SELECT * FROM geography_columns LIMIT 5\n",
      "2024-06-23 18:15:36,632 INFO sqlalchemy.engine.Engine [generated in 0.00046s] ()\n",
      "('climatech', 'public', 'places', 'location', 2, 4326, 'Polygon')\n",
      "('climatech', 'public', 'harmonized_landsat_sentinel_data', 'location', 2, 4326, 'Point')\n",
      "\n",
      "\n",
      "--- Contenido de la tabla: geometry_columns ---\n",
      "2024-06-23 18:15:36,659 INFO sqlalchemy.engine.Engine SELECT * FROM geometry_columns LIMIT 5\n",
      "2024-06-23 18:15:36,660 INFO sqlalchemy.engine.Engine [generated in 0.00033s] ()\n",
      "\n",
      "\n",
      "--- Contenido de la tabla: spatial_ref_sys ---\n",
      "2024-06-23 18:15:36,663 INFO sqlalchemy.engine.Engine SELECT * FROM spatial_ref_sys LIMIT 5\n",
      "2024-06-23 18:15:36,663 INFO sqlalchemy.engine.Engine [generated in 0.00023s] ()\n",
      "(2000, 'EPSG', 2000, 'PROJCS[\"Anguilla 1957 / British West Indies Grid\",GEOGCS[\"Anguilla 1957\",DATUM[\"Anguilla_1957\",SPHEROID[\"Clarke 1880 (RGS)\",6378249.145,293.465,AUTHO ... (339 characters truncated) ... ,400000],PARAMETER[\"false_northing\",0],UNIT[\"metre\",1,AUTHORITY[\"EPSG\",\"9001\"]],AXIS[\"Easting\",EAST],AXIS[\"Northing\",NORTH],AUTHORITY[\"EPSG\",\"2000\"]]', '+proj=tmerc +lat_0=0 +lon_0=-62 +k=0.9995000000000001 +x_0=400000 +y_0=0 +ellps=clrk80 +units=m +no_defs ')\n",
      "(2001, 'EPSG', 2001, 'PROJCS[\"Antigua 1943 / British West Indies Grid\",GEOGCS[\"Antigua 1943\",DATUM[\"Antigua_1943\",SPHEROID[\"Clarke 1880 (RGS)\",6378249.145,293.465,AUTHORIT ... (365 characters truncated) ... ,400000],PARAMETER[\"false_northing\",0],UNIT[\"metre\",1,AUTHORITY[\"EPSG\",\"9001\"]],AXIS[\"Easting\",EAST],AXIS[\"Northing\",NORTH],AUTHORITY[\"EPSG\",\"2001\"]]', '+proj=tmerc +lat_0=0 +lon_0=-62 +k=0.9995000000000001 +x_0=400000 +y_0=0 +ellps=clrk80 +towgs84=-255,-15,71,0,0,0,0 +units=m +no_defs ')\n",
      "(2002, 'EPSG', 2002, 'PROJCS[\"Dominica 1945 / British West Indies Grid\",GEOGCS[\"Dominica 1945\",DATUM[\"Dominica_1945\",SPHEROID[\"Clarke 1880 (RGS)\",6378249.145,293.465,AUTHO ... (368 characters truncated) ... ,400000],PARAMETER[\"false_northing\",0],UNIT[\"metre\",1,AUTHORITY[\"EPSG\",\"9001\"]],AXIS[\"Easting\",EAST],AXIS[\"Northing\",NORTH],AUTHORITY[\"EPSG\",\"2002\"]]', '+proj=tmerc +lat_0=0 +lon_0=-62 +k=0.9995000000000001 +x_0=400000 +y_0=0 +ellps=clrk80 +towgs84=725,685,536,0,0,0,0 +units=m +no_defs ')\n",
      "(2003, 'EPSG', 2003, 'PROJCS[\"Grenada 1953 / British West Indies Grid\",GEOGCS[\"Grenada 1953\",DATUM[\"Grenada_1953\",SPHEROID[\"Clarke 1880 (RGS)\",6378249.145,293.465,AUTHORIT ... (365 characters truncated) ... ,400000],PARAMETER[\"false_northing\",0],UNIT[\"metre\",1,AUTHORITY[\"EPSG\",\"9001\"]],AXIS[\"Easting\",EAST],AXIS[\"Northing\",NORTH],AUTHORITY[\"EPSG\",\"2003\"]]', '+proj=tmerc +lat_0=0 +lon_0=-62 +k=0.9995000000000001 +x_0=400000 +y_0=0 +ellps=clrk80 +towgs84=72,213.7,93,0,0,0,0 +units=m +no_defs ')\n",
      "(2004, 'EPSG', 2004, 'PROJCS[\"Montserrat 1958 / British West Indies Grid\",GEOGCS[\"Montserrat 1958\",DATUM[\"Montserrat_1958\",SPHEROID[\"Clarke 1880 (RGS)\",6378249.145,293.465 ... (374 characters truncated) ... ,400000],PARAMETER[\"false_northing\",0],UNIT[\"metre\",1,AUTHORITY[\"EPSG\",\"9001\"]],AXIS[\"Easting\",EAST],AXIS[\"Northing\",NORTH],AUTHORITY[\"EPSG\",\"2004\"]]', '+proj=tmerc +lat_0=0 +lon_0=-62 +k=0.9995000000000001 +x_0=400000 +y_0=0 +ellps=clrk80 +towgs84=174,359,365,0,0,0,0 +units=m +no_defs ')\n",
      "\n",
      "\n",
      "--- Contenido de la tabla: places ---\n",
      "2024-06-23 18:15:36,665 INFO sqlalchemy.engine.Engine SELECT * FROM places LIMIT 5\n",
      "2024-06-23 18:15:36,665 INFO sqlalchemy.engine.Engine [generated in 0.00019s] ()\n",
      "(1, 'Cascada Capilla Buffo', 'Rio Ceballos - Cordoba - Cascada Capilla Buffo', '0103000020E610000001000000050000005EC81115541950C0D6D98575992F3FC05EC81115541950C0CCC421E92F323FC0DCC549DE741850C0CCC421E92F323FC0DCC549DE741850C0D6D98575992F3FC05EC81115541950C0D6D98575992F3FC0')\n",
      "\n",
      "\n",
      "--- Contenido de la tabla: harmonized_landsat_sentinel_data ---\n",
      "2024-06-23 18:15:36,675 INFO sqlalchemy.engine.Engine SELECT * FROM harmonized_landsat_sentinel_data LIMIT 5\n",
      "2024-06-23 18:15:36,675 INFO sqlalchemy.engine.Engine [generated in 0.00025s] ()\n",
      "(15, 1, datetime.datetime(2024, 5, 28, 0, 0), '0101000020E610000033E3BE68161950C01DF4E246912F3FC0', 116.0, 93.0, 187.0, 205.0, 336.0, 618.0, 701.0, 698.0, None, 449.0, 16.0, 731.0, 411.0, None)\n",
      "(22, 1, datetime.datetime(2024, 5, 28, 0, 0), '0101000020E61000007BB22460F71850C01DF4E246912F3FC0', 167.0, 277.0, 507.0, 595.0, 933.0, 1574.0, 1803.0, 1996.0, None, 1008.0, 23.0, 2030.0, 1155.0, None)\n",
      "(23, 1, datetime.datetime(2024, 5, 28, 0, 0), '0101000020E6100000CF3D33F1F21850C01DF4E246912F3FC0', 184.0, 285.0, 514.0, 597.0, 976.0, 1671.0, 1920.0, 2110.0, None, 1186.0, 27.0, 2129.0, 1174.0, None)\n",
      "(7, 1, datetime.datetime(2024, 5, 28, 0, 0), '0101000020E610000097884AE0391950C01DF4E246912F3FC0', 319.0, 478.0, 736.0, 899.0, 1284.0, 1859.0, 2081.0, 2333.0, None, 1253.0, 27.0, 3292.0, 2147.0, None)\n",
      "(11, 1, datetime.datetime(2024, 5, 28, 0, 0), '0101000020E6100000E5B58424281950C01DF4E246912F3FC0', 196.0, 288.0, 480.0, 553.0, 846.0, 1432.0, 1605.0, 1766.0, None, 873.0, 21.0, 2057.0, 1214.0, None)\n",
      "\n",
      "\n",
      "--- Contenido de la tabla: alembic_version ---\n",
      "2024-06-23 18:15:36,677 INFO sqlalchemy.engine.Engine SELECT * FROM alembic_version LIMIT 5\n",
      "2024-06-23 18:15:36,677 INFO sqlalchemy.engine.Engine [generated in 0.00019s] ()\n",
      "('cc4ed6cc1407',)\n",
      "\n",
      "\n",
      "2024-06-23 18:15:36,678 INFO sqlalchemy.engine.Engine ROLLBACK\n"
     ]
    }
   ],
   "source": [
    "# Configuración de la base de datos\n",
    "DATABASE_URL = \"postgresql+asyncpg://franciscofurey@localhost/climatech\"\n",
    "engine = create_async_engine(DATABASE_URL, echo=True)\n",
    "async_session = sessionmaker(engine, expire_on_commit=False, class_=AsyncSession)\n",
    "\n",
    "async def show_tables_and_content():\n",
    "    async with async_session() as session:\n",
    "        # Obtener una lista de todas las tablas en la base de datos\n",
    "        result = await session.execute(text(\"SELECT table_name FROM information_schema.tables WHERE table_schema='public'\"))\n",
    "        tables = result.scalars().all()\n",
    "        \n",
    "        for table in tables:\n",
    "            print(f\"--- Contenido de la tabla: {table} ---\")\n",
    "            # Mostrar las primeras 5 filas de cada tabla\n",
    "            query = text(f\"SELECT * FROM {table} LIMIT 5\")\n",
    "            result = await session.execute(query)\n",
    "            rows = result.fetchall()\n",
    "            for row in rows:\n",
    "                print(row)\n",
    "            print(\"\\n\")\n",
    "\n",
    "# Ejecutar la función asíncrona en Jupyter\n",
    "await show_tables_and_content()\n"
   ]
  },
  {
   "cell_type": "code",
   "execution_count": 4,
   "metadata": {},
   "outputs": [
    {
     "name": "stdout",
     "output_type": "stream",
     "text": [
      "Tabla geography_columns: 2 filas\n",
      "\n",
      "Tabla geometry_columns: 0 filas\n",
      "\n",
      "Tabla spatial_ref_sys: 8500 filas\n",
      "\n",
      "Tabla places: 1 filas\n",
      "\n",
      "Tabla harmonized_landsat_sentinel_data: 11934 filas\n",
      "\n",
      "Tabla alembic_version: 1 filas\n",
      "\n"
     ]
    }
   ],
   "source": [
    "import asyncio\n",
    "from sqlalchemy.ext.asyncio import create_async_engine, AsyncSession\n",
    "from sqlalchemy.orm import sessionmaker\n",
    "from sqlalchemy import text\n",
    "\n",
    "# Configuración de la base de datos\n",
    "DATABASE_URL = \"postgresql+asyncpg://franciscofurey@localhost/climatech\"\n",
    "engine = create_async_engine(DATABASE_URL)\n",
    "async_session = sessionmaker(bind=engine, expire_on_commit=False, class_=AsyncSession)\n",
    "\n",
    "async def show_tables_row_count():\n",
    "    \"\"\"Muestra la cantidad de filas para cada tabla en la base de datos.\"\"\"\n",
    "    async with async_session() as session:\n",
    "        # Obtener una lista de todas las tablas en la base de datos\n",
    "        result = await session.execute(text(\"SELECT table_name FROM information_schema.tables WHERE table_schema='public'\"))\n",
    "        tables = result.scalars().all()\n",
    "        \n",
    "        for table in tables:\n",
    "            # Contar las filas de cada tabla\n",
    "            query = text(f\"SELECT COUNT(*) FROM {table}\")\n",
    "            result = await session.execute(query)\n",
    "            row_count = result.scalar()\n",
    "            print(f\"Tabla {table}: {row_count} filas\\n\")\n",
    "\n",
    "# Ejecutar la función asíncrona en Jupyter\n",
    "await show_tables_row_count()"
   ]
  },
  {
   "cell_type": "code",
   "execution_count": 3,
   "metadata": {},
   "outputs": [
    {
     "name": "stdout",
     "output_type": "stream",
     "text": [
      "Todos los registros asociados al place_id 1 han sido eliminados.\n"
     ]
    }
   ],
   "source": [
    "from sqlalchemy.ext.asyncio import create_async_engine, AsyncSession\n",
    "from sqlalchemy.orm import sessionmaker\n",
    "\n",
    "# Configuración de la base de datos\n",
    "DATABASE_URL = \"postgresql+asyncpg://franciscofurey@localhost/climatech\"\n",
    "engine = create_async_engine(DATABASE_URL)\n",
    "async_session = sessionmaker(bind=engine, expire_on_commit=False, class_=AsyncSession)\n",
    "\n",
    "async def delete_harmonized_data_by_place_id(place_id: int):\n",
    "    \"\"\"Elimina todos los registros en HarmonizedLandsatSentinelData basados en un Place id.\"\"\"\n",
    "    async with async_session() as session:\n",
    "        # Primero, obtén todos los registros asociados con el place_id dado\n",
    "        result = await session.execute(\n",
    "            text(f\"SELECT * FROM harmonized_landsat_sentinel_data WHERE place_id = :place_id\"),\n",
    "            {\"place_id\": place_id}\n",
    "        )\n",
    "        records = result.scalars().all()\n",
    "        \n",
    "        if records:\n",
    "            # Si se encontraron registros, elimínalos\n",
    "            await session.execute(\n",
    "                text(f\"DELETE FROM harmonized_landsat_sentinel_data WHERE place_id = :place_id\"),\n",
    "                {\"place_id\": place_id}\n",
    "            )\n",
    "            await session.commit()\n",
    "            print(f\"Todos los registros asociados al place_id {place_id} han sido eliminados.\")\n",
    "        else:\n",
    "            print(f\"No se encontraron registros para el place_id {place_id}.\")\n",
    "\n",
    "# Ejecuta la función con el ID de Place específico\n",
    "await delete_harmonized_data_by_place_id(1)  # Reemplaza 123 con el ID real de Place que quieres eliminar\n"
   ]
  },
  {
   "cell_type": "code",
   "execution_count": null,
   "metadata": {},
   "outputs": [],
   "source": []
  }
 ],
 "metadata": {
  "kernelspec": {
   "display_name": "Climatech",
   "language": "python",
   "name": "climatech"
  },
  "language_info": {
   "codemirror_mode": {
    "name": "ipython",
    "version": 3
   },
   "file_extension": ".py",
   "mimetype": "text/x-python",
   "name": "python",
   "nbconvert_exporter": "python",
   "pygments_lexer": "ipython3",
   "version": "3.12.3"
  }
 },
 "nbformat": 4,
 "nbformat_minor": 2
}
