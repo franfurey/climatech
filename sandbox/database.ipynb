{
 "cells": [
  {
   "cell_type": "code",
   "execution_count": 2,
   "metadata": {},
   "outputs": [
    {
     "name": "stdout",
     "output_type": "stream",
     "text": [
      "2024-06-23 10:49:10,557 INFO sqlalchemy.engine.Engine select pg_catalog.version()\n",
      "2024-06-23 10:49:10,558 INFO sqlalchemy.engine.Engine [raw sql] ()\n",
      "2024-06-23 10:49:10,560 INFO sqlalchemy.engine.Engine select current_schema()\n",
      "2024-06-23 10:49:10,560 INFO sqlalchemy.engine.Engine [raw sql] ()\n",
      "2024-06-23 10:49:10,562 INFO sqlalchemy.engine.Engine show standard_conforming_strings\n",
      "2024-06-23 10:49:10,563 INFO sqlalchemy.engine.Engine [raw sql] ()\n",
      "2024-06-23 10:49:10,564 INFO sqlalchemy.engine.Engine BEGIN (implicit)\n",
      "2024-06-23 10:49:10,564 INFO sqlalchemy.engine.Engine SELECT table_name FROM information_schema.tables WHERE table_schema='public'\n",
      "2024-06-23 10:49:10,564 INFO sqlalchemy.engine.Engine [generated in 0.00034s] ()\n",
      "--- Contenido de la tabla: geography_columns ---\n",
      "2024-06-23 10:49:10,569 INFO sqlalchemy.engine.Engine SELECT * FROM geography_columns LIMIT 5\n",
      "2024-06-23 10:49:10,569 INFO sqlalchemy.engine.Engine [generated in 0.00036s] ()\n",
      "('climatech', 'public', 'places', 'location', 2, 4326, 'Polygon')\n",
      "\n",
      "\n",
      "--- Contenido de la tabla: geometry_columns ---\n",
      "2024-06-23 10:49:10,594 INFO sqlalchemy.engine.Engine SELECT * FROM geometry_columns LIMIT 5\n",
      "2024-06-23 10:49:10,594 INFO sqlalchemy.engine.Engine [generated in 0.00039s] ()\n",
      "\n",
      "\n",
      "--- Contenido de la tabla: spatial_ref_sys ---\n",
      "2024-06-23 10:49:10,603 INFO sqlalchemy.engine.Engine SELECT * FROM spatial_ref_sys LIMIT 5\n",
      "2024-06-23 10:49:10,603 INFO sqlalchemy.engine.Engine [generated in 0.00031s] ()\n",
      "(2000, 'EPSG', 2000, 'PROJCS[\"Anguilla 1957 / British West Indies Grid\",GEOGCS[\"Anguilla 1957\",DATUM[\"Anguilla_1957\",SPHEROID[\"Clarke 1880 (RGS)\",6378249.145,293.465,AUTHO ... (339 characters truncated) ... ,400000],PARAMETER[\"false_northing\",0],UNIT[\"metre\",1,AUTHORITY[\"EPSG\",\"9001\"]],AXIS[\"Easting\",EAST],AXIS[\"Northing\",NORTH],AUTHORITY[\"EPSG\",\"2000\"]]', '+proj=tmerc +lat_0=0 +lon_0=-62 +k=0.9995000000000001 +x_0=400000 +y_0=0 +ellps=clrk80 +units=m +no_defs ')\n",
      "(2001, 'EPSG', 2001, 'PROJCS[\"Antigua 1943 / British West Indies Grid\",GEOGCS[\"Antigua 1943\",DATUM[\"Antigua_1943\",SPHEROID[\"Clarke 1880 (RGS)\",6378249.145,293.465,AUTHORIT ... (365 characters truncated) ... ,400000],PARAMETER[\"false_northing\",0],UNIT[\"metre\",1,AUTHORITY[\"EPSG\",\"9001\"]],AXIS[\"Easting\",EAST],AXIS[\"Northing\",NORTH],AUTHORITY[\"EPSG\",\"2001\"]]', '+proj=tmerc +lat_0=0 +lon_0=-62 +k=0.9995000000000001 +x_0=400000 +y_0=0 +ellps=clrk80 +towgs84=-255,-15,71,0,0,0,0 +units=m +no_defs ')\n",
      "(2002, 'EPSG', 2002, 'PROJCS[\"Dominica 1945 / British West Indies Grid\",GEOGCS[\"Dominica 1945\",DATUM[\"Dominica_1945\",SPHEROID[\"Clarke 1880 (RGS)\",6378249.145,293.465,AUTHO ... (368 characters truncated) ... ,400000],PARAMETER[\"false_northing\",0],UNIT[\"metre\",1,AUTHORITY[\"EPSG\",\"9001\"]],AXIS[\"Easting\",EAST],AXIS[\"Northing\",NORTH],AUTHORITY[\"EPSG\",\"2002\"]]', '+proj=tmerc +lat_0=0 +lon_0=-62 +k=0.9995000000000001 +x_0=400000 +y_0=0 +ellps=clrk80 +towgs84=725,685,536,0,0,0,0 +units=m +no_defs ')\n",
      "(2003, 'EPSG', 2003, 'PROJCS[\"Grenada 1953 / British West Indies Grid\",GEOGCS[\"Grenada 1953\",DATUM[\"Grenada_1953\",SPHEROID[\"Clarke 1880 (RGS)\",6378249.145,293.465,AUTHORIT ... (365 characters truncated) ... ,400000],PARAMETER[\"false_northing\",0],UNIT[\"metre\",1,AUTHORITY[\"EPSG\",\"9001\"]],AXIS[\"Easting\",EAST],AXIS[\"Northing\",NORTH],AUTHORITY[\"EPSG\",\"2003\"]]', '+proj=tmerc +lat_0=0 +lon_0=-62 +k=0.9995000000000001 +x_0=400000 +y_0=0 +ellps=clrk80 +towgs84=72,213.7,93,0,0,0,0 +units=m +no_defs ')\n",
      "(2004, 'EPSG', 2004, 'PROJCS[\"Montserrat 1958 / British West Indies Grid\",GEOGCS[\"Montserrat 1958\",DATUM[\"Montserrat_1958\",SPHEROID[\"Clarke 1880 (RGS)\",6378249.145,293.465 ... (374 characters truncated) ... ,400000],PARAMETER[\"false_northing\",0],UNIT[\"metre\",1,AUTHORITY[\"EPSG\",\"9001\"]],AXIS[\"Easting\",EAST],AXIS[\"Northing\",NORTH],AUTHORITY[\"EPSG\",\"2004\"]]', '+proj=tmerc +lat_0=0 +lon_0=-62 +k=0.9995000000000001 +x_0=400000 +y_0=0 +ellps=clrk80 +towgs84=174,359,365,0,0,0,0 +units=m +no_defs ')\n",
      "\n",
      "\n",
      "--- Contenido de la tabla: places ---\n",
      "2024-06-23 10:49:10,604 INFO sqlalchemy.engine.Engine SELECT * FROM places LIMIT 5\n",
      "2024-06-23 10:49:10,605 INFO sqlalchemy.engine.Engine [generated in 0.00025s] ()\n",
      "(1, 'La Calera - Cerro Piedra Relumbrosa', 'Cerro Piedra Relumbrosa. En la parte del rio. ', '0103000020E61000000100000005000000CCEE73E8B51A50C098FFBEC26C503FC0CCEE73E8B51A50C070175D4AB3503FC08901DB27961A50C070175D4AB3503FC08901DB27961A50C098FFBEC26C503FC0CCEE73E8B51A50C098FFBEC26C503FC0')\n",
      "(2, 'Campo Nono', 'Campo Nono', '0103000020E610000001000000410000006870C5487B0A50C0CB549294BD2E40C0E5251E3B390B50C02AB89C53CD2E40C035D8B45AF50B50C065670A6AFC2E40C0553437D9AD0C50C07E1 ... (1816 characters truncated) ... 750C00A424B82B62F40C07AAC53B8480850C07E1725644A2F40C09A08D636010950C065670A6AFC2E40C0EBBA6C56BD0950C02AB89C53CD2E40C06870C5487B0A50C0CB549294BD2E40C0')\n",
      "\n",
      "\n",
      "--- Contenido de la tabla: alembic_version ---\n",
      "2024-06-23 10:49:10,610 INFO sqlalchemy.engine.Engine SELECT * FROM alembic_version LIMIT 5\n",
      "2024-06-23 10:49:10,611 INFO sqlalchemy.engine.Engine [generated in 0.00031s] ()\n",
      "('aa4e774dd6db',)\n",
      "\n",
      "\n",
      "2024-06-23 10:49:10,612 INFO sqlalchemy.engine.Engine ROLLBACK\n"
     ]
    }
   ],
   "source": [
    "import asyncio\n",
    "from sqlalchemy.ext.asyncio import create_async_engine, AsyncSession\n",
    "from sqlalchemy.orm import sessionmaker\n",
    "from sqlalchemy import text\n",
    "\n",
    "# Configuración de la base de datos\n",
    "DATABASE_URL = \"postgresql+asyncpg://franciscofurey@localhost/climatech\"\n",
    "engine = create_async_engine(DATABASE_URL, echo=True)\n",
    "async_session = sessionmaker(engine, expire_on_commit=False, class_=AsyncSession)\n",
    "\n",
    "async def show_tables_and_content():\n",
    "    async with async_session() as session:\n",
    "        # Obtener una lista de todas las tablas en la base de datos\n",
    "        result = await session.execute(text(\"SELECT table_name FROM information_schema.tables WHERE table_schema='public'\"))\n",
    "        tables = result.scalars().all()\n",
    "        \n",
    "        for table in tables:\n",
    "            print(f\"--- Contenido de la tabla: {table} ---\")\n",
    "            # Mostrar las primeras 5 filas de cada tabla\n",
    "            query = text(f\"SELECT * FROM {table} LIMIT 5\")\n",
    "            result = await session.execute(query)\n",
    "            rows = result.fetchall()\n",
    "            for row in rows:\n",
    "                print(row)\n",
    "            print(\"\\n\")\n",
    "\n",
    "# Ejecutar la función asíncrona en Jupyter\n",
    "await show_tables_and_content()\n"
   ]
  },
  {
   "cell_type": "code",
   "execution_count": null,
   "metadata": {},
   "outputs": [],
   "source": []
  }
 ],
 "metadata": {
  "kernelspec": {
   "display_name": "Climatech",
   "language": "python",
   "name": "climatech"
  },
  "language_info": {
   "codemirror_mode": {
    "name": "ipython",
    "version": 3
   },
   "file_extension": ".py",
   "mimetype": "text/x-python",
   "name": "python",
   "nbconvert_exporter": "python",
   "pygments_lexer": "ipython3",
   "version": "3.12.3"
  }
 },
 "nbformat": 4,
 "nbformat_minor": 2
}
