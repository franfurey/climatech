{
 "cells": [
  {
   "cell_type": "code",
   "execution_count": 2,
   "metadata": {},
   "outputs": [
    {
     "name": "stdout",
     "output_type": "stream",
     "text": [
      "Tabla geography_columns: 2 filas\n",
      "\n",
      "Tabla geometry_columns: 0 filas\n",
      "\n",
      "Tabla spatial_ref_sys: 8500 filas\n",
      "\n",
      "Tabla places: 2 filas\n",
      "\n",
      "Tabla harmonized_landsat_sentinel_data: 48654 filas\n",
      "\n",
      "Tabla alembic_version: 1 filas\n",
      "\n"
     ]
    }
   ],
   "source": [
    "import asyncio\n",
    "from sqlalchemy.ext.asyncio import create_async_engine, AsyncSession\n",
    "from sqlalchemy.orm import sessionmaker\n",
    "from sqlalchemy import text\n",
    "\n",
    "# Configuración de la base de datos\n",
    "DATABASE_URL = \"postgresql+asyncpg://franciscofurey@localhost/climatech\"\n",
    "engine = create_async_engine(DATABASE_URL)\n",
    "async_session = sessionmaker(bind=engine, expire_on_commit=False, class_=AsyncSession)\n",
    "\n",
    "async def show_tables_row_count():\n",
    "    \"\"\"Muestra la cantidad de filas para cada tabla en la base de datos.\"\"\"\n",
    "    async with async_session() as session:\n",
    "        # Obtener una lista de todas las tablas en la base de datos\n",
    "        result = await session.execute(text(\"SELECT table_name FROM information_schema.tables WHERE table_schema='public'\"))\n",
    "        tables = result.scalars().all()\n",
    "        \n",
    "        for table in tables:\n",
    "            # Contar las filas de cada tabla\n",
    "            query = text(f\"SELECT COUNT(*) FROM {table}\")\n",
    "            result = await session.execute(query)\n",
    "            row_count = result.scalar()\n",
    "            print(f\"Tabla {table}: {row_count} filas\\n\")\n",
    "\n",
    "# Ejecutar la función asíncrona en Jupyter\n",
    "await show_tables_row_count()"
   ]
  },
  {
   "cell_type": "markdown",
   "metadata": {},
   "source": []
  },
  {
   "cell_type": "code",
   "execution_count": 2,
   "metadata": {},
   "outputs": [
    {
     "name": "stdout",
     "output_type": "stream",
     "text": [
      "Todos los registros asociados al place_id 9 han sido eliminados.\n"
     ]
    }
   ],
   "source": [
    "from sqlalchemy.ext.asyncio import create_async_engine, AsyncSession\n",
    "from sqlalchemy.orm import sessionmaker\n",
    "import asyncio\n",
    "from sqlalchemy.ext.asyncio import create_async_engine, AsyncSession\n",
    "from sqlalchemy.orm import sessionmaker\n",
    "from sqlalchemy import text\n",
    "\n",
    "# Configuración de la base de datos\n",
    "DATABASE_URL = \"postgresql+asyncpg://franciscofurey@localhost/climatech\"\n",
    "engine = create_async_engine(DATABASE_URL)\n",
    "async_session = sessionmaker(bind=engine, expire_on_commit=False, class_=AsyncSession)\n",
    "\n",
    "async def delete_harmonized_data_by_place_id(place_id: int):\n",
    "    \"\"\"Elimina todos los registros en HarmonizedLandsatSentinelData basados en un Place id.\"\"\"\n",
    "    async with async_session() as session:\n",
    "        # Primero, obtén todos los registros asociados con el place_id dado\n",
    "        result = await session.execute(\n",
    "            text(f\"SELECT * FROM harmonized_landsat_sentinel_data WHERE place_id = :place_id\"),\n",
    "            {\"place_id\": place_id}\n",
    "        )\n",
    "        records = result.scalars().all()\n",
    "        \n",
    "        if records:\n",
    "            # Si se encontraron registros, elimínalos\n",
    "            await session.execute(\n",
    "                text(f\"DELETE FROM harmonized_landsat_sentinel_data WHERE place_id = :place_id\"),\n",
    "                {\"place_id\": place_id}\n",
    "            )\n",
    "            await session.commit()\n",
    "            print(f\"Todos los registros asociados al place_id {place_id} han sido eliminados.\")\n",
    "        else:\n",
    "            print(f\"No se encontraron registros para el place_id {place_id}.\")\n",
    "\n",
    "# Ejecuta la función con el ID de Place específico\n",
    "await delete_harmonized_data_by_place_id(9)  # Reemplaza 123 con el ID real de Place que quieres eliminar\n"
   ]
  },
  {
   "cell_type": "markdown",
   "metadata": {},
   "source": []
  },
  {
   "cell_type": "markdown",
   "metadata": {},
   "source": []
  },
  {
   "cell_type": "markdown",
   "metadata": {},
   "source": []
  }
 ],
 "metadata": {
  "kernelspec": {
   "display_name": "Climatech",
   "language": "python",
   "name": "climatech"
  },
  "language_info": {
   "codemirror_mode": {
    "name": "ipython",
    "version": 3
   },
   "file_extension": ".py",
   "mimetype": "text/x-python",
   "name": "python",
   "nbconvert_exporter": "python",
   "pygments_lexer": "ipython3",
   "version": "3.12.3"
  }
 },
 "nbformat": 4,
 "nbformat_minor": 2
}
